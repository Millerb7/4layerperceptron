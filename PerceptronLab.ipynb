{
 "cells": [
  {
   "cell_type": "markdown",
   "metadata": {},
   "source": [
    "# Lab Assignment Four: Multi-Layer Perceptron\n",
    "\n",
    "Code by Miller Boyd\n",
    "\n",
    "## Introduction\n",
    "In this lab, you will compare the performance of multi-layer perceptrons with your own implementations. This project is a crucial component of the course, constituting 10% of the final grade. Teams are required to submit a comprehensive report in a Jupyter notebook format, including all code, visualizations, and narratives. For visualizations that cannot be directly embedded, include screenshots. Ensure the results are reproducible using the submitted notebook.\n"
   ]
  },
  {
   "cell_type": "markdown",
   "metadata": {},
   "source": [
    "## Dataset Selection\n",
    "You will employ the US Census data for this assignment, specifically chosen by the instructor. This dataset is available on Kaggle and can also be downloaded from [Dropbox](https://www.dropbox.com/s/bf7i7qjftk7cmzq/acs2017_census_tract_data.csv?dl=0). The classification task involves predicting the child poverty rate across different tracts, requiring you to convert this into a four-level classification task by quantizing the variable of interest."
   ]
  },
  {
   "cell_type": "markdown",
   "metadata": {},
   "source": [
    "### Load, Split, and Balance (1.5 points)\n",
    "- **[0.5 points]** Load the data into a pandas DataFrame, remove missing data, encode strings as integers, and decide on the inclusion of the \"county\" variable with justification.\n",
    "- **[0.5 points]** Balance the dataset ensuring an equal number of instances across classes. Explain your chosen method for balancing and whether it applies to both training and testing sets.\n",
    "- **[0.5 points]** Split the dataset into an 80/20 train/test ratio, aiming for equal classification performance across classes. Only one-hot encode the target at this stage."
   ]
  },
  {
   "cell_type": "code",
   "execution_count": null,
   "metadata": {},
   "outputs": [],
   "source": []
  },
  {
   "cell_type": "markdown",
   "metadata": {},
   "source": [
    "\n",
    "### Pre-processing and Initial Modeling (2.5 points)\n",
    "- **[0.5 points]** Employ a two-layer perceptron (with vectorized gradient computation, mini-batching, cross entropy loss, and Glorot initialization) to model the data without normalization or one-hot encoding. Ensure model convergence by graphing loss over epochs.\n",
    "- **[0.5 points]** Normalize continuous numeric features, reapply the two-layer perceptron model, and graph loss over epochs for performance quantification.\n",
    "- **[0.5 points]** Normalize numeric features and one-hot encode categorical data, reapply the model, and graph loss over epochs.\n",
    "- **[1 point]** Compare the performance across the three models, discussing any significant differences and their potential causes. Use one-hot encoding and normalization for all data in subsequent tasks."
   ]
  },
  {
   "cell_type": "code",
   "execution_count": null,
   "metadata": {},
   "outputs": [],
   "source": []
  },
  {
   "cell_type": "markdown",
   "metadata": {},
   "source": [
    "\n",
    "### Modeling (5 points)\n",
    "- **[1 point]** Extend the perceptron model to include a third layer, incorporating gradient magnitude tracking for each layer per epoch. Quantify performance and graph gradient magnitudes.\n",
    "- **[1 point]** Add a fourth layer to the model, repeating the performance quantification and gradient magnitude tracking.\n",
    "- **[1 point]** Introduce a fifth layer, continuing with performance quantification and gradient tracking.\n",
    "- **[2 points]** Implement an adaptive learning technique (excluding AdaM) for the five-layer network. Discuss your choice of technique, compare model performances with and without the adaptive strategy."
   ]
  },
  {
   "cell_type": "code",
   "execution_count": null,
   "metadata": {},
   "outputs": [],
   "source": []
  },
  {
   "cell_type": "markdown",
   "metadata": {},
   "source": [
    "### Exceptional Work (1 point)\n",
    "- **5000 level students:** You are encouraged to explore additional analyses.\n",
    "- **7000 level students (required):** Implement AdaM in the five-layer neural network and compare its performance with other models."
   ]
  }
 ],
 "metadata": {
  "language_info": {
   "name": "python"
  }
 },
 "nbformat": 4,
 "nbformat_minor": 2
}
