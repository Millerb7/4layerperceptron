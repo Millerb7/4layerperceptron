{
 "cells": [
  {
   "cell_type": "markdown",
   "metadata": {},
   "source": [
    "# Lab Assignment Four: Multi-Layer Perceptron\n",
    "\n",
    "Code by Miller Boyd\n",
    "\n",
    "## Introduction\n",
    "In this lab, you will compare the performance of multi-layer perceptrons with your own implementations. This project is a crucial component of the course, constituting 10% of the final grade. Teams are required to submit a comprehensive report in a Jupyter notebook format, including all code, visualizations, and narratives. For visualizations that cannot be directly embedded, include screenshots. Ensure the results are reproducible using the submitted notebook.\n"
   ]
  },
  {
   "cell_type": "markdown",
   "metadata": {},
   "source": [
    "## Dataset Selection\n",
    "You will employ the US Census data for this assignment, specifically chosen by the instructor. This dataset is available on Kaggle and can also be downloaded from [Dropbox](https://www.dropbox.com/s/bf7i7qjftk7cmzq/acs2017_census_tract_data.csv?dl=0). The classification task involves predicting the child poverty rate across different tracts, requiring you to convert this into a four-level classification task by quantizing the variable of interest.\n",
    "\n",
    "Found in file: acs2017_census_tract_data.csv"
   ]
  },
  {
   "cell_type": "markdown",
   "metadata": {},
   "source": [
    "### Load, Split, and Balance (1.5 points)\n",
    "- **[0.5 points]** Load the data into a pandas DataFrame, remove missing data, encode strings as integers, and decide on the inclusion of the \"county\" variable with justification.\n",
    "- **[0.5 points]** Balance the dataset ensuring an equal number of instances across classes. Explain your chosen method for balancing and whether it applies to both training and testing sets.\n",
    "- **[0.5 points]** Split the dataset into an 80/20 train/test ratio, aiming for equal classification performance across classes. Only one-hot encode the target at this stage."
   ]
  },
  {
   "cell_type": "code",
   "execution_count": 2,
   "metadata": {},
   "outputs": [],
   "source": [
    "import pandas as pd\n",
    "from sklearn.model_selection import train_test_split\n",
    "from sklearn.preprocessing import LabelEncoder\n",
    "import numpy as np\n",
    "\n",
    "# Load the data\n",
    "data_path = 'acs2017_census_tract_data.csv'\n",
    "df = pd.read_csv(data_path)\n",
    "\n",
    "# Remove missing data\n",
    "df = df.dropna()\n",
    "\n",
    "# Encode string data as integers\n",
    "# Assuming 'county' is a string variable among others. Adjust as necessary.\n",
    "le = LabelEncoder()\n",
    "for col in df.select_dtypes(include=['object']).columns:\n",
    "    df[col] = le.fit_transform(df[col])\n"
   ]
  },
  {
   "cell_type": "code",
   "execution_count": null,
   "metadata": {},
   "outputs": [],
   "source": [
    "# Decide on the inclusion of the \"county\" variable\n",
    "# This is a placeholder for your analysis on whether to keep or remove the 'county' variable.\n",
    "# Example decision: Remove 'county' if it was encoded above\n",
    "# df = df.drop(columns=['county'])"
   ]
  },
  {
   "cell_type": "code",
   "execution_count": 3,
   "metadata": {},
   "outputs": [
    {
     "name": "stdout",
     "output_type": "stream",
     "text": [
      "Class distribution before balancing: ChildPoverty_Quantized\n",
      "0    18229\n",
      "1    18171\n",
      "3    18170\n",
      "2    18148\n",
      "Name: count, dtype: int64\n"
     ]
    },
    {
     "name": "stderr",
     "output_type": "stream",
     "text": [
      "C:\\Users\\wnd\\AppData\\Local\\Temp\\ipykernel_88436\\4116637881.py:12: DeprecationWarning: DataFrameGroupBy.apply operated on the grouping columns. This behavior is deprecated, and in a future version of pandas the grouping columns will be excluded from the operation. Either pass `include_groups=False` to exclude the groupings or explicitly select the grouping columns after groupby to silence this warning.\n",
      "  df_balanced = df.groupby('ChildPoverty_Quantized').apply(lambda x: x.sample(min_class_size)).reset_index(drop=True)\n"
     ]
    }
   ],
   "source": [
    "# Balance the dataset\n",
    "# First, quantize the 'ChildPoverty' variable into 4 classes\n",
    "df['ChildPoverty_Quantized'] = pd.qcut(df['ChildPoverty'], 4, labels=False)\n",
    "\n",
    "# Count the number of instances in each class to decide on balancing method\n",
    "class_counts = df['ChildPoverty_Quantized'].value_counts()\n",
    "print(\"Class distribution before balancing:\", class_counts)\n",
    "\n",
    "# Assuming a simple undersampling strategy for balancing for demonstration\n",
    "# Ideally, you might want to explore more sophisticated methods depending on class distribution\n",
    "min_class_size = class_counts.min()\n",
    "df_balanced = df.groupby('ChildPoverty_Quantized').apply(lambda x: x.sample(min_class_size)).reset_index(drop=True)\n"
   ]
  },
  {
   "cell_type": "code",
   "execution_count": 4,
   "metadata": {},
   "outputs": [
    {
     "name": "stdout",
     "output_type": "stream",
     "text": [
      "Training set size: 58073\n",
      "Testing set size: 14519\n"
     ]
    }
   ],
   "source": [
    "# Split the dataset into 80% training and 20% testing\n",
    "# Assuming 'ChildPoverty_Quantized' is the target variable\n",
    "X = df_balanced.drop(['ChildPoverty_Quantized'], axis=1)\n",
    "y = df_balanced['ChildPoverty_Quantized']\n",
    "\n",
    "X_train, X_test, y_train, y_test = train_test_split(X, y, test_size=0.2, random_state=42, stratify=y)\n",
    "\n",
    "print(\"Training set size:\", X_train.shape[0])\n",
    "print(\"Testing set size:\", X_test.shape[0])"
   ]
  },
  {
   "cell_type": "markdown",
   "metadata": {},
   "source": [
    "\n",
    "### Pre-processing and Initial Modeling (2.5 points)\n",
    "- **[0.5 points]** Employ a two-layer perceptron (with vectorized gradient computation, mini-batching, cross entropy loss, and Glorot initialization) to model the data without normalization or one-hot encoding. Ensure model convergence by graphing loss over epochs.\n",
    "- **[0.5 points]** Normalize continuous numeric features, reapply the two-layer perceptron model, and graph loss over epochs for performance quantification.\n",
    "- **[0.5 points]** Normalize numeric features and one-hot encode categorical data, reapply the model, and graph loss over epochs.\n",
    "- **[1 point]** Compare the performance across the three models, discussing any significant differences and their potential causes. Use one-hot encoding and normalization for all data in subsequent tasks."
   ]
  },
  {
   "cell_type": "code",
   "execution_count": null,
   "metadata": {},
   "outputs": [],
   "source": []
  },
  {
   "cell_type": "markdown",
   "metadata": {},
   "source": [
    "\n",
    "### Modeling (5 points)\n",
    "- **[1 point]** Extend the perceptron model to include a third layer, incorporating gradient magnitude tracking for each layer per epoch. Quantify performance and graph gradient magnitudes.\n",
    "- **[1 point]** Add a fourth layer to the model, repeating the performance quantification and gradient magnitude tracking.\n",
    "- **[1 point]** Introduce a fifth layer, continuing with performance quantification and gradient tracking.\n",
    "- **[2 points]** Implement an adaptive learning technique (excluding AdaM) for the five-layer network. Discuss your choice of technique, compare model performances with and without the adaptive strategy."
   ]
  },
  {
   "cell_type": "code",
   "execution_count": null,
   "metadata": {},
   "outputs": [],
   "source": []
  },
  {
   "cell_type": "markdown",
   "metadata": {},
   "source": [
    "### Exceptional Work (1 point)\n",
    "- **5000 level students:** You are encouraged to explore additional analyses.\n",
    "- **7000 level students (required):** Implement AdaM in the five-layer neural network and compare its performance with other models."
   ]
  }
 ],
 "metadata": {
  "kernelspec": {
   "display_name": "Python 3",
   "language": "python",
   "name": "python3"
  },
  "language_info": {
   "codemirror_mode": {
    "name": "ipython",
    "version": 3
   },
   "file_extension": ".py",
   "mimetype": "text/x-python",
   "name": "python",
   "nbconvert_exporter": "python",
   "pygments_lexer": "ipython3",
   "version": "3.12.2"
  }
 },
 "nbformat": 4,
 "nbformat_minor": 2
}
